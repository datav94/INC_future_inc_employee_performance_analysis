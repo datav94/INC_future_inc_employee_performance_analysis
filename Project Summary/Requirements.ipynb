{
 "cells": [
  {
   "cell_type": "markdown",
   "id": "4f7d3f63-1191-4662-ba50-1f1acee0b4b9",
   "metadata": {},
   "source": [
    "# __Requirements__\n",
    "\n",
    "### __Data Source__\n",
    "- The data used in this project comes from the dataset provided by IABAC for a fictitious company named INC Future Inc. The data set contains data of employee's profile with various features that are categorical as well as numerical in nature and the target is to predict the employee's performance rating with respect to the various feature values provided.\n",
    "- No other third party data has been used as the dataset provided for the purpose is sufficient to create a generalized model for performance prediction. Although further optimization may require addition data that can be collected from various sources especially kaggle.com\n",
    "\n",
    "### __Libraries used__\n",
    "##### env loading\n",
    "- os\n",
    "- dotenv\n",
    "\n",
    "##### data loading and wrangling libraries for EDA\n",
    "- pandas\n",
    "- numpy\n",
    "\n",
    "##### data visualization libraries\n",
    "- matplotlib\n",
    "- seaborn\n",
    "- bokeh\n",
    "\n",
    "##### data balancing\n",
    "- imblearn\n",
    "\n",
    "##### data splitting, ml algorithms, cross validation and evaluation\n",
    "- sklearn\n",
    "- xgboost\n",
    "\n",
    "##### warnings\n",
    "- warnings"
   ]
  },
  {
   "cell_type": "code",
   "execution_count": null,
   "id": "a76a8c74-4fb8-43f1-a6fa-e6ee20555c9b",
   "metadata": {},
   "outputs": [],
   "source": []
  }
 ],
 "metadata": {
  "kernelspec": {
   "display_name": "Python 3",
   "language": "python",
   "name": "python3"
  },
  "language_info": {
   "codemirror_mode": {
    "name": "ipython",
    "version": 3
   },
   "file_extension": ".py",
   "mimetype": "text/x-python",
   "name": "python",
   "nbconvert_exporter": "python",
   "pygments_lexer": "ipython3",
   "version": "3.8.8"
  }
 },
 "nbformat": 4,
 "nbformat_minor": 5
}
