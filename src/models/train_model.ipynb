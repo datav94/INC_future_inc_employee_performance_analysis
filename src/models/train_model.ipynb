{
 "cells": [
  {
   "cell_type": "markdown",
   "id": "a2953e9e-95ae-4b6d-be7a-ffe7da2912a6",
   "metadata": {},
   "source": [
    "# __Employee Performance Analysis__\n",
    "## __INX Future Inc.__\n",
    "### __Train Model__"
   ]
  },
  {
   "cell_type": "code",
   "execution_count": 1,
   "id": "6dcda289-c2d5-49c6-86c9-db4afd8c2f4d",
   "metadata": {},
   "outputs": [
    {
     "data": {
      "text/plain": [
       "True"
      ]
     },
     "execution_count": 1,
     "metadata": {},
     "output_type": "execute_result"
    }
   ],
   "source": [
    "# general purpose libraries\n",
    "import os\n",
    "from dotenv import load_dotenv\n",
    "\n",
    "# data loading and wrangling libraries for EDA\n",
    "import pandas as pd\n",
    "import numpy as np\n",
    "\n",
    "# data visualization libraries\n",
    "import matplotlib.pyplot as plt\n",
    "import seaborn as sns\n",
    "\n",
    "# data balancing\n",
    "from imblearn.over_sampling import SMOTE\n",
    "from imblearn.under_sampling import RandomUnderSampler\n",
    "from imblearn.pipeline import Pipeline\n",
    "\n",
    "# data splitting\n",
    "from sklearn.model_selection import train_test_split\n",
    "\n",
    "# ml models\n",
    "from sklearn.linear_model import LogisticRegression\n",
    "from sklearn.ensemble import RandomForestClassifier, GradientBoostingClassifier\n",
    "from sklearn.cluster import KMeans\n",
    "from sklearn.neighbors import KNeighborsClassifier\n",
    "from sklearn.neural_network import MLPClassifier\n",
    "from sklearn.naive_bayes import GaussianNB\n",
    "from sklearn.svm import SVC\n",
    "from xgboost import XGBClassifier\n",
    "\n",
    "# Cross validation\n",
    "from sklearn.model_selection import KFold, cross_val_score\n",
    "\n",
    "# ML model evaluation\n",
    "from sklearn.metrics import accuracy_score, classification_report\n",
    "\n",
    "# warnings\n",
    "import warnings\n",
    "warnings.filterwarnings('ignore')\n",
    "\n",
    "# load the dot env file that contains the path to data file for data privacy\n",
    "dotenv_path = os.getcwd()+'\\\\local.env'\n",
    "load_dotenv(dotenv_path=dotenv_path)"
   ]
  },
  {
   "cell_type": "markdown",
   "id": "b9e6e93e-f41e-41a7-8d6f-33f64e47b045",
   "metadata": {},
   "source": [
    "## Import data"
   ]
  },
  {
   "cell_type": "code",
   "execution_count": 2,
   "id": "a11a479e-26c0-44fb-aa61-8b52c6755b0e",
   "metadata": {},
   "outputs": [
    {
     "data": {
      "text/html": [
       "<div>\n",
       "<style scoped>\n",
       "    .dataframe tbody tr th:only-of-type {\n",
       "        vertical-align: middle;\n",
       "    }\n",
       "\n",
       "    .dataframe tbody tr th {\n",
       "        vertical-align: top;\n",
       "    }\n",
       "\n",
       "    .dataframe thead th {\n",
       "        text-align: right;\n",
       "    }\n",
       "</style>\n",
       "<table border=\"1\" class=\"dataframe\">\n",
       "  <thead>\n",
       "    <tr style=\"text-align: right;\">\n",
       "      <th></th>\n",
       "      <th>EmpNumber</th>\n",
       "      <th>Age</th>\n",
       "      <th>Gender</th>\n",
       "      <th>EducationBackground</th>\n",
       "      <th>MaritalStatus</th>\n",
       "      <th>EmpDepartment</th>\n",
       "      <th>EmpJobRole</th>\n",
       "      <th>BusinessTravelFrequency</th>\n",
       "      <th>DistanceFromHome</th>\n",
       "      <th>EmpEducationLevel</th>\n",
       "      <th>...</th>\n",
       "      <th>EmpRelationshipSatisfaction</th>\n",
       "      <th>TotalWorkExperienceInYears</th>\n",
       "      <th>TrainingTimesLastYear</th>\n",
       "      <th>EmpWorkLifeBalance</th>\n",
       "      <th>ExperienceYearsAtThisCompany</th>\n",
       "      <th>ExperienceYearsInCurrentRole</th>\n",
       "      <th>YearsSinceLastPromotion</th>\n",
       "      <th>YearsWithCurrManager</th>\n",
       "      <th>Attrition</th>\n",
       "      <th>PerformanceRating</th>\n",
       "    </tr>\n",
       "  </thead>\n",
       "  <tbody>\n",
       "    <tr>\n",
       "      <th>0</th>\n",
       "      <td>E1001000</td>\n",
       "      <td>32</td>\n",
       "      <td>Male</td>\n",
       "      <td>Marketing</td>\n",
       "      <td>Single</td>\n",
       "      <td>Sales</td>\n",
       "      <td>Sales Executive</td>\n",
       "      <td>Travel_Rarely</td>\n",
       "      <td>10</td>\n",
       "      <td>3</td>\n",
       "      <td>...</td>\n",
       "      <td>4</td>\n",
       "      <td>10</td>\n",
       "      <td>2</td>\n",
       "      <td>2</td>\n",
       "      <td>10</td>\n",
       "      <td>7</td>\n",
       "      <td>0</td>\n",
       "      <td>8</td>\n",
       "      <td>No</td>\n",
       "      <td>3</td>\n",
       "    </tr>\n",
       "    <tr>\n",
       "      <th>1</th>\n",
       "      <td>E1001006</td>\n",
       "      <td>47</td>\n",
       "      <td>Male</td>\n",
       "      <td>Marketing</td>\n",
       "      <td>Single</td>\n",
       "      <td>Sales</td>\n",
       "      <td>Sales Executive</td>\n",
       "      <td>Travel_Rarely</td>\n",
       "      <td>14</td>\n",
       "      <td>4</td>\n",
       "      <td>...</td>\n",
       "      <td>4</td>\n",
       "      <td>20</td>\n",
       "      <td>2</td>\n",
       "      <td>3</td>\n",
       "      <td>7</td>\n",
       "      <td>7</td>\n",
       "      <td>1</td>\n",
       "      <td>7</td>\n",
       "      <td>No</td>\n",
       "      <td>3</td>\n",
       "    </tr>\n",
       "    <tr>\n",
       "      <th>2</th>\n",
       "      <td>E1001007</td>\n",
       "      <td>40</td>\n",
       "      <td>Male</td>\n",
       "      <td>Life Sciences</td>\n",
       "      <td>Married</td>\n",
       "      <td>Sales</td>\n",
       "      <td>Sales Executive</td>\n",
       "      <td>Travel_Frequently</td>\n",
       "      <td>5</td>\n",
       "      <td>4</td>\n",
       "      <td>...</td>\n",
       "      <td>3</td>\n",
       "      <td>20</td>\n",
       "      <td>2</td>\n",
       "      <td>3</td>\n",
       "      <td>18</td>\n",
       "      <td>13</td>\n",
       "      <td>1</td>\n",
       "      <td>12</td>\n",
       "      <td>No</td>\n",
       "      <td>4</td>\n",
       "    </tr>\n",
       "  </tbody>\n",
       "</table>\n",
       "<p>3 rows × 28 columns</p>\n",
       "</div>"
      ],
      "text/plain": [
       "  EmpNumber  Age Gender EducationBackground MaritalStatus EmpDepartment  \\\n",
       "0  E1001000   32   Male           Marketing        Single         Sales   \n",
       "1  E1001006   47   Male           Marketing        Single         Sales   \n",
       "2  E1001007   40   Male       Life Sciences       Married         Sales   \n",
       "\n",
       "        EmpJobRole BusinessTravelFrequency  DistanceFromHome  \\\n",
       "0  Sales Executive           Travel_Rarely                10   \n",
       "1  Sales Executive           Travel_Rarely                14   \n",
       "2  Sales Executive       Travel_Frequently                 5   \n",
       "\n",
       "   EmpEducationLevel  ...  EmpRelationshipSatisfaction  \\\n",
       "0                  3  ...                            4   \n",
       "1                  4  ...                            4   \n",
       "2                  4  ...                            3   \n",
       "\n",
       "   TotalWorkExperienceInYears  TrainingTimesLastYear  EmpWorkLifeBalance  \\\n",
       "0                          10                      2                   2   \n",
       "1                          20                      2                   3   \n",
       "2                          20                      2                   3   \n",
       "\n",
       "   ExperienceYearsAtThisCompany  ExperienceYearsInCurrentRole  \\\n",
       "0                            10                             7   \n",
       "1                             7                             7   \n",
       "2                            18                            13   \n",
       "\n",
       "  YearsSinceLastPromotion  YearsWithCurrManager  Attrition  PerformanceRating  \n",
       "0                       0                     8         No                  3  \n",
       "1                       1                     7         No                  3  \n",
       "2                       1                    12         No                  4  \n",
       "\n",
       "[3 rows x 28 columns]"
      ]
     },
     "execution_count": 2,
     "metadata": {},
     "output_type": "execute_result"
    }
   ],
   "source": [
    "main_df = pd.read_excel(os.getenv('data'))\n",
    "main_df.head(3)"
   ]
  },
  {
   "cell_type": "markdown",
   "id": "848a7131-5160-496e-8b9e-e0a2785f58c3",
   "metadata": {},
   "source": [
    "## Preprocessing the data for ML models"
   ]
  },
  {
   "cell_type": "code",
   "execution_count": 3,
   "id": "adaad323-fb03-4617-9ab4-0a4140689fee",
   "metadata": {},
   "outputs": [],
   "source": [
    "# lets prepare our dataset\n",
    "\n",
    "ml_df = main_df.drop('EmpNumber', axis=1)\n",
    "ml_df.head(2)\n",
    "\n",
    "cat_df = ml_df.select_dtypes(['object','bool'])\n",
    "num_df = ml_df.select_dtypes(['int64', 'float64'])\n",
    "\n",
    "# OneHotEncoding of Categorical features\n",
    "cat_df = pd.get_dummies(cat_df)\n",
    "\n",
    "# concatonate the categorical and numberical datasets to make one prepared dataset for RandomForest model\n",
    "ml_df = pd.concat([cat_df, num_df], axis=1)\n",
    "\n",
    "# Splitting the dataset into X=features and y=target \n",
    "X = ml_df.iloc[:, :-1]\n",
    "y = ml_df.PerformanceRating\n",
    "\n",
    "# now lets perform the train test split\n",
    "X_train, X_test, y_train, y_test = train_test_split(X,y, test_size=0.25, random_state=19)"
   ]
  },
  {
   "cell_type": "markdown",
   "id": "2751720a-5385-4a13-b159-4129053039fe",
   "metadata": {},
   "source": [
    "## Balancing the dataset using imblearn"
   ]
  },
  {
   "cell_type": "code",
   "execution_count": 4,
   "id": "d35c8c74-92a8-474f-9706-8c3d2385e1ed",
   "metadata": {},
   "outputs": [],
   "source": [
    "oversampling = SMOTE()\n",
    "undersampling = RandomUnderSampler()\n",
    "\n",
    "steps = (('o', oversampling), ('u', undersampling))\n",
    "pipeline = Pipeline(steps=steps)\n",
    "\n",
    "X_bal, y_bal = pipeline.fit_resample(X_train, y_train)"
   ]
  },
  {
   "cell_type": "markdown",
   "id": "fcb3b728-ecf0-43a5-9009-93e43640e365",
   "metadata": {},
   "source": [
    "## Model selection using K-Fold Cross validation\n",
    "\n",
    "K-Fold cross validation processing the data models in such a way that the model does not fall into the traps of overfitting as it creates K validation splits and performs model training and accuracy evaluation on K splits"
   ]
  },
  {
   "cell_type": "code",
   "execution_count": 5,
   "id": "3383d09f-a934-4560-be2e-262fd770670a",
   "metadata": {},
   "outputs": [],
   "source": [
    "# lets create a model dictionary that will be used by cross validation to perform K-Fold on each of the models\n",
    "models = {\n",
    "    'logr': LogisticRegression(),\n",
    "    'knn': KNeighborsClassifier(n_neighbors=2),\n",
    "    'Kmeans': KMeans(n_clusters=3),\n",
    "    'naive_bayes': GaussianNB(),\n",
    "    'MLP': MLPClassifier(hidden_layer_sizes=(128, 96, 32, 3), activation='relu'),\n",
    "    'RandomF': RandomForestClassifier(n_estimators=800),\n",
    "    'GrdBoostClassifier': GradientBoostingClassifier(n_estimators=800),\n",
    "    'XGBoost': XGBClassifier(n_estimators=900, objective='multi:softprob', eval_metric='merror')\n",
    "}\n",
    "\n",
    "model_report = {}\n",
    "for key, value in models.items():\n",
    "    \n",
    "    # lets first create k folds of our dataset\n",
    "    kfold = KFold(n_splits=10, random_state=15, shuffle=True)\n",
    "    \n",
    "    # now lets train and varify each model's cross validations score\n",
    "    cv_report = cross_val_score(value, X_train, y=y_train, cv=kfold, scoring='accuracy')\n",
    "    model_report.update(**{\n",
    "        key: (cv_report, cv_report.mean(), cv_report.std())\n",
    "    })"
   ]
  },
  {
   "cell_type": "markdown",
   "id": "494cdf85-7397-4cf0-90c9-0bdf6faccfcf",
   "metadata": {},
   "source": [
    "## Lets plot the results to find out the best performing model so that we can further perform Hyperparameter tuning for that model and train it"
   ]
  },
  {
   "cell_type": "code",
   "execution_count": 6,
   "id": "be089257-fbe6-432c-8121-a380037a46d5",
   "metadata": {},
   "outputs": [
    {
     "data": {
      "image/png": "[encoded data removed]",
      "text/plain": [
       "<Figure size 1440x864 with 1 Axes>"
      ]
     },
     "metadata": {
      "needs_background": "light"
     },
     "output_type": "display_data"
    }
   ],
   "source": [
    "fig = plt.figure(figsize=(20,12))\n",
    "\n",
    "fig.suptitle('ML Model Performance')\n",
    "ax = fig.add_subplot(1,1,1)\n",
    "plt.boxplot([value[0] for value in model_report.values()])\n",
    "ax.set_xticklabels([key for key in model_report.keys()])\n",
    "plt.show()"
   ]
  },
  {
   "cell_type": "markdown",
   "id": "2e1ed1de-f7d3-43ac-a992-18f1d175522f",
   "metadata": {},
   "source": [
    "## Selected ML models\n",
    "\n",
    "The winner here are clearly __GradientBoostClassifier__ and __XGBClassifier__ who have won by a great margin and hence our selected models for training are:\n",
    "\n",
    "1. __GradientBoostClassifier__\n",
    "2. __XGBClassifier__\n",
    "\n",
    "- Now lets perform Hyperparameter tuning for these two models to figure out the best model and best parameters for the model"
   ]
  },
  {
   "cell_type": "markdown",
   "id": "68bb0965-86d9-46ab-bea5-64c8172b49eb",
   "metadata": {},
   "source": [
    "## Hyperparameter tuning on GradientBoostClassifier\n",
    "\n",
    "we shall use the sklearn's GridSearchCV to perform hyperparameter tuning and we shall use the parameter grid to select the best combination of parameters to provide us with the best possible results"
   ]
  },
  {
   "cell_type": "code",
   "execution_count": 5,
   "id": "147bc400-0c47-4707-959a-b98a699c9ad7",
   "metadata": {},
   "outputs": [],
   "source": [
    "from sklearn.model_selection import GridSearchCV, RandomizedSearchCV"
   ]
  },
  {
   "cell_type": "code",
   "execution_count": 8,
   "id": "c278cc6c-7cd4-4c8a-9c77-4155afddb226",
   "metadata": {},
   "outputs": [
    {
     "data": {
      "text/plain": [
       "RandomizedSearchCV(cv=4, estimator=GradientBoostingClassifier(), n_jobs=1,\n",
       "                   param_distributions={'criterion': ['friedman_mse',\n",
       "                                                      'squared_error', 'mse',\n",
       "                                                      'mae'],\n",
       "                                        'learning_rate': [0.1, 0.2],\n",
       "                                        'max_depth': [9, 10, 11],\n",
       "                                        'max_features': ['auto', 'sqrt',\n",
       "                                                         'log2'],\n",
       "                                        'min_samples_leaf': [2, 3],\n",
       "                                        'n_estimators': [700, 800, 900],\n",
       "                                        'subsample': [0, 1]},\n",
       "                   return_train_score=True)"
      ]
     },
     "execution_count": 8,
     "metadata": {},
     "output_type": "execute_result"
    }
   ],
   "source": [
    "# lets first create the hyperparameter grid\n",
    "\n",
    "gb_params ={\n",
    "    'n_estimators': [700, 800, 900],\n",
    "    'learning_rate' : [0.1,0.2],\n",
    "    'max_depth': [9, 10, 11],\n",
    "    'min_samples_leaf': [2,3],\n",
    "    'subsample': [0,1],\n",
    "    'max_features' : ['auto','sqrt','log2'],\n",
    "    'criterion': ['friedman_mse', 'squared_error', 'mse', 'mae']\n",
    "}\n",
    "model = GradientBoostingClassifier()\n",
    "\n",
    "random_search = RandomizedSearchCV(\n",
    "    model, \n",
    "    gb_params, \n",
    "    cv=4, \n",
    "    n_jobs=1, \n",
    "    verbose=0, \n",
    "    return_train_score=True\n",
    ")\n",
    "\n",
    "random_search.fit(X_bal, y_bal)"
   ]
  },
  {
   "cell_type": "code",
   "execution_count": 9,
   "id": "4f84bc65-b14d-42ba-895a-2025e4963033",
   "metadata": {},
   "outputs": [
    {
     "name": "stdout",
     "output_type": "stream",
     "text": [
      "{'subsample': 1, 'n_estimators': 700, 'min_samples_leaf': 2, 'max_features': 'auto', 'max_depth': 11, 'learning_rate': 0.1, 'criterion': 'friedman_mse'}\n",
      "0.9646295485912411\n"
     ]
    }
   ],
   "source": [
    "print(random_search.best_params_)\n",
    "print(random_search.best_score_)"
   ]
  },
  {
   "cell_type": "markdown",
   "id": "ef0dd00b-b254-4ddc-ae8b-00c3225f6377",
   "metadata": {},
   "source": [
    "## Hyperparameter tuning on XGBClassifier"
   ]
  },
  {
   "cell_type": "code",
   "execution_count": 6,
   "id": "9d83dfb3-9d2e-4510-bb13-7e6889c53daf",
   "metadata": {},
   "outputs": [
    {
     "name": "stdout",
     "output_type": "stream",
     "text": [
      "[01:24:57] WARNING: C:/Users/Administrator/workspace/xgboost-win64_release_1.4.0/src/learner.cc:223: No visible GPU is found, setting `gpu_id` to -1\n",
      "[01:24:57] WARNING: C:/Users/Administrator/workspace/xgboost-win64_release_1.4.0/src/learner.cc:223: No visible GPU is found, setting `gpu_id` to -1\n",
      "[01:24:57] WARNING: C:/Users/Administrator/workspace/xgboost-win64_release_1.4.0/src/learner.cc:223: No visible GPU is found, setting `gpu_id` to -1\n",
      "[01:24:57] WARNING: C:/Users/Administrator/workspace/xgboost-win64_release_1.4.0/src/learner.cc:223: No visible GPU is found, setting `gpu_id` to -1\n",
      "[01:25:19] WARNING: C:/Users/Administrator/workspace/xgboost-win64_release_1.4.0/src/learner.cc:223: No visible GPU is found, setting `gpu_id` to -1\n",
      "[01:25:19] WARNING: C:/Users/Administrator/workspace/xgboost-win64_release_1.4.0/src/learner.cc:223: No visible GPU is found, setting `gpu_id` to -1\n",
      "[01:25:19] WARNING: C:/Users/Administrator/workspace/xgboost-win64_release_1.4.0/src/learner.cc:223: No visible GPU is found, setting `gpu_id` to -1\n",
      "[01:25:19] WARNING: C:/Users/Administrator/workspace/xgboost-win64_release_1.4.0/src/learner.cc:223: No visible GPU is found, setting `gpu_id` to -1\n",
      "[01:25:19] WARNING: C:/Users/Administrator/workspace/xgboost-win64_release_1.4.0/src/learner.cc:223: No visible GPU is found, setting `gpu_id` to -1\n",
      "[01:25:19] WARNING: C:/Users/Administrator/workspace/xgboost-win64_release_1.4.0/src/learner.cc:223: No visible GPU is found, setting `gpu_id` to -1\n",
      "[01:25:19] WARNING: C:/Users/Administrator/workspace/xgboost-win64_release_1.4.0/src/learner.cc:223: No visible GPU is found, setting `gpu_id` to -1\n",
      "[01:25:19] WARNING: C:/Users/Administrator/workspace/xgboost-win64_release_1.4.0/src/learner.cc:223: No visible GPU is found, setting `gpu_id` to -1\n",
      "[01:25:28] WARNING: C:/Users/Administrator/workspace/xgboost-win64_release_1.4.0/src/learner.cc:223: No visible GPU is found, setting `gpu_id` to -1\n",
      "[01:25:28] WARNING: C:/Users/Administrator/workspace/xgboost-win64_release_1.4.0/src/learner.cc:223: No visible GPU is found, setting `gpu_id` to -1\n",
      "[01:25:28] WARNING: C:/Users/Administrator/workspace/xgboost-win64_release_1.4.0/src/learner.cc:223: No visible GPU is found, setting `gpu_id` to -1\n",
      "[01:25:28] WARNING: C:/Users/Administrator/workspace/xgboost-win64_release_1.4.0/src/learner.cc:223: No visible GPU is found, setting `gpu_id` to -1\n",
      "{'tree_method': 'hist', 'n_estimators': 700, 'max_depth': 7, 'learning_rate': 0.3, 'booster': 'dart'}\n",
      "0.9600115292691958\n"
     ]
    }
   ],
   "source": [
    "# lets first create the hyperparameter grid\n",
    "\n",
    "xgb_params ={\n",
    "    'n_estimators': [400 ,500, 600, 700, 800, 900],\n",
    "    'booster': ['gbtree','dart'],\n",
    "    'learning_rate': [0.01, 0.1, 0.15, 0.2, 0.3],\n",
    "    'max_depth': [7, 8, 9, 10, 11, 12, 14],\n",
    "    'tree_method': ['auto','exact','approx','hist','gpu_hist'],\n",
    "}\n",
    "\n",
    "model = XGBClassifier(objective=\"multi:softprob\", eval_metric=\"merror\", use_label_encoder=True, n_jobs=-1)\n",
    "\n",
    "random_search = RandomizedSearchCV(\n",
    "    model, \n",
    "    xgb_params, \n",
    "    cv=4, \n",
    "    n_jobs=1, \n",
    "    verbose=0, \n",
    "    return_train_score=True\n",
    ")\n",
    "\n",
    "random_search.fit(X_bal, y_bal)\n",
    "\n",
    "print(random_search.best_params_)\n",
    "print(random_search.best_score_)"
   ]
  },
  {
   "cell_type": "markdown",
   "id": "ef519727-fddd-4602-97bb-ac5a3361c113",
   "metadata": {},
   "source": [
    "## Conclusion we shall use the parameters provided by RandomizedSearchCV for training our models\n",
    "\n",
    "## Further hyperparameter tuning\n",
    "- A futher tuning of these hyperparameters can be gained using GridSearchCV as that will give out thee best available parametric values for our models but it has not been used here due to the compute time and resource restrictions as it takes up more time and more resources to perform hyperparameter tuning as it tries out all possible combinations of parameters provided in the parameter grid."
   ]
  },
  {
   "cell_type": "code",
   "execution_count": null,
   "id": "50f3e0c5-c909-46ad-86c2-996f6833c80e",
   "metadata": {},
   "outputs": [],
   "source": []
  }
 ],
 "metadata": {
  "kernelspec": {
   "display_name": "Python 3",
   "language": "python",
   "name": "python3"
  },
  "language_info": {
   "codemirror_mode": {
    "name": "ipython",
    "version": 3
   },
   "file_extension": ".py",
   "mimetype": "text/x-python",
   "name": "python",
   "nbconvert_exporter": "python",
   "pygments_lexer": "ipython3",
   "version": "3.8.8"
  }
 },
 "nbformat": 4,
 "nbformat_minor": 5
}
